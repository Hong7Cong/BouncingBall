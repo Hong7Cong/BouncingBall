{
 "cells": [
  {
   "cell_type": "code",
   "execution_count": 2,
   "metadata": {},
   "outputs": [],
   "source": [
    "import turtle\n",
    "\n",
    "# wn = turtle.Screen()\n",
    "# wn.title(\"Pong by @TokyoEdTech\")\n",
    "# wn.bgcolor(\"black\")\n",
    "# wn.setup(width=800, height=600)\n",
    "# wn.tracer(0)"
   ]
  }
 ],
 "metadata": {
  "kernelspec": {
   "display_name": "Python 3.10.6 ('mixstuff')",
   "language": "python",
   "name": "python3"
  },
  "language_info": {
   "codemirror_mode": {
    "name": "ipython",
    "version": 3
   },
   "file_extension": ".py",
   "mimetype": "text/x-python",
   "name": "python",
   "nbconvert_exporter": "python",
   "pygments_lexer": "ipython3",
   "version": "3.10.6"
  },
  "orig_nbformat": 4,
  "vscode": {
   "interpreter": {
    "hash": "5566985e6ad1e679543c5921c892b9e6825fa454468458b445799507a812c51a"
   }
  }
 },
 "nbformat": 4,
 "nbformat_minor": 2
}
